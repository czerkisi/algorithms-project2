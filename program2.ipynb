{
 "cells": [
  {
   "cell_type": "markdown",
   "id": "a2b02621",
   "metadata": {},
   "source": [
    "# Program II: Benchmarking Insertion and Selection Sorts\n",
    "## Drew Mattson, Ian Czerkis, Akashdeep Gill"
   ]
  },
  {
   "cell_type": "code",
   "execution_count": null,
   "outputs": [],
   "source": [
    "import copy"
   ],
   "metadata": {
    "collapsed": false
   },
   "id": "6b71d24493b7a0ec"
  },
  {
   "cell_type": "markdown",
   "source": [
    "# Sorting Algorithms\n",
    "## Insertion Sort"
   ],
   "metadata": {
    "collapsed": false
   },
   "id": "d35dfbd6b17e5ff0"
  },
  {
   "cell_type": "code",
   "execution_count": null,
   "outputs": [],
   "source": [
    "def insertion_sort(lst):"
   ],
   "metadata": {
    "collapsed": false
   },
   "id": "773fd9f39ebdde60"
  },
  {
   "cell_type": "markdown",
   "source": [
    "## Selection Sort"
   ],
   "metadata": {
    "collapsed": false
   },
   "id": "c54e175ee69fd55f"
  },
  {
   "cell_type": "code",
   "execution_count": null,
   "id": "initial_id",
   "metadata": {
    "collapsed": true
   },
   "outputs": [],
   "source": [
    "def selection_sort(lst):\n",
    "    size = len(lst)\n",
    "    for ind in range(size):\n",
    "        min_index = ind\n",
    " \n",
    "        for j in range(ind + 1, size):\n",
    "            # select the minimum element in every iteration\n",
    "            if lst[j] < lst[min_index]:\n",
    "                min_index = j\n",
    "         # swap the elements to sort the array\n",
    "        (lst[ind], lst[min_index]) = (lst[min_index], lst[ind])\n",
    "\n"
   ]
  },
  {
   "cell_type": "markdown",
   "source": [
    "## Correctness Testing"
   ],
   "metadata": {
    "collapsed": false
   },
   "id": "7e574c3ba5aadac3"
  },
  {
   "cell_type": "code",
   "execution_count": null,
   "outputs": [],
   "source": [
    "original_tests_cases = [\n",
    "    ([3, 2, 1], [1, 2, 3]),\n",
    "    ([1, 2, 3], [1, 2, 3]),\n",
    "    ([1, 8, 7, 9, 2, 4, 10, 5, 6, 3], [1, 2, 3, 4, 5, 6, 7, 8, 9, 10]),\n",
    "    ([492, 215, 761, 38, 904, 127, 589, 333, 674, 51], [38, 51, 127, 215, 333, 492, 589, 674, 761, 904]),\n",
    "    ([724, 138, 502, 891, 267, 605, 49, 803, 416, 175], [49, 138, 175, 267, 416, 502, 605, 724, 803, 891]),\n",
    "    ([0.587, 0.231, 0.895, 0.412, 0.674, 0.138, 0.759, 0.523, 0.946, 0.301], [0.138, 0.231, 0.301, 0.412, 0.523, 0.587, 0.674, 0.759, 0.895, 0.946]),\n",
    "    ([-55, 72, -18, 41, -93, 7, 64, -29, 15, -84], [-93, -84, -55, -29, -18, 7, 15, 41, 64, 72])\n",
    "]\n",
    "\n",
    "def get_deep_copy_of_test_cases():\n",
    "    return copy.deepcopy(original_tests_cases)"
   ],
   "metadata": {
    "collapsed": false
   },
   "id": "93ca422ae501242e"
  }
 ],
 "metadata": {
  "kernelspec": {
   "display_name": "Python 3",
   "language": "python",
   "name": "python3"
  },
  "language_info": {
   "codemirror_mode": {
    "name": "ipython",
    "version": 2
   },
   "file_extension": ".py",
   "mimetype": "text/x-python",
   "name": "python",
   "nbconvert_exporter": "python",
   "pygments_lexer": "ipython2",
   "version": "2.7.6"
  }
 },
 "nbformat": 4,
 "nbformat_minor": 5
}
