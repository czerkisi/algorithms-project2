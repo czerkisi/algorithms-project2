{
 "cells": [
  {
   "cell_type": "markdown",
   "id": "a2b02621",
   "metadata": {},
   "source": [
    "# Program II: Benchmarking Insertion and Selection Sorts\n",
    "## Drew Mattson, Ian Czerkis, Akashdeep Gill"
   ]
  },
  {
   "cell_type": "code",
   "execution_count": 72,
   "outputs": [],
   "source": [
    "import copy\n",
    "import time\n",
    "import random\n",
    "import matplotlib.pyplot as plt"
   ],
   "metadata": {
    "collapsed": false,
    "ExecuteTime": {
     "end_time": "2024-02-27T01:01:59.343094400Z",
     "start_time": "2024-02-27T01:01:59.314040100Z"
    }
   },
   "id": "6b71d24493b7a0ec"
  },
  {
   "cell_type": "markdown",
   "source": [
    "# Sorting Algorithms\n",
    "## Insertion Sort"
   ],
   "metadata": {
    "collapsed": false
   },
   "id": "d35dfbd6b17e5ff0"
  },
  {
   "cell_type": "code",
   "execution_count": 73,
   "outputs": [],
   "source": [
    "def insertion_sort(lst):\n",
    "    i = 1"
   ],
   "metadata": {
    "collapsed": false,
    "ExecuteTime": {
     "end_time": "2024-02-27T01:01:59.351085900Z",
     "start_time": "2024-02-27T01:01:59.319625200Z"
    }
   },
   "id": "773fd9f39ebdde60"
  },
  {
   "cell_type": "markdown",
   "source": [
    "## Selection Sort"
   ],
   "metadata": {
    "collapsed": false
   },
   "id": "c54e175ee69fd55f"
  },
  {
   "cell_type": "code",
   "execution_count": 74,
   "id": "initial_id",
   "metadata": {
    "collapsed": true,
    "ExecuteTime": {
     "end_time": "2024-02-27T01:01:59.352092400Z",
     "start_time": "2024-02-27T01:01:59.328679900Z"
    }
   },
   "outputs": [],
   "source": [
    "def selection_sort(lst):\n",
    "    size = len(lst)\n",
    "    for ind in range(size):\n",
    "        min_index = ind\n",
    " \n",
    "        for j in range(ind + 1, size):\n",
    "            # select the minimum element in every iteration\n",
    "            if lst[j] < lst[min_index]:\n",
    "                min_index = j\n",
    "         # swap the elements to sort the array\n",
    "        (lst[ind], lst[min_index]) = (lst[min_index], lst[ind])"
   ]
  },
  {
   "cell_type": "markdown",
   "source": [
    "## Correctness Testing"
   ],
   "metadata": {
    "collapsed": false
   },
   "id": "7e574c3ba5aadac3"
  },
  {
   "cell_type": "code",
   "execution_count": 75,
   "outputs": [],
   "source": [
    "original_tests_cases = [\n",
    "    ([3, 2, 1], [1, 2, 3]),\n",
    "    ([1, 2, 3], [1, 2, 3]),\n",
    "    ([1, 8, 7, 9, 2, 4, 10, 5, 6, 3], [1, 2, 3, 4, 5, 6, 7, 8, 9, 10]),\n",
    "    ([492, 215, 761, 38, 904, 127, 589, 333, 674, 51], [38, 51, 127, 215, 333, 492, 589, 674, 761, 904]),\n",
    "    ([724, 138, 502, 891, 267, 605, 49, 803, 416, 175], [49, 138, 175, 267, 416, 502, 605, 724, 803, 891]),\n",
    "    ([0.587, 0.231, 0.895, 0.412, 0.674, 0.138, 0.759, 0.523, 0.946, 0.301], [0.138, 0.231, 0.301, 0.412, 0.523, 0.587, 0.674, 0.759, 0.895, 0.946]),\n",
    "    ([-55, 72, -18, 41, -93, 7, 64, -29, 15, -84], [-93, -84, -55, -29, -18, 7, 15, 41, 64, 72])\n",
    "]\n",
    "\n",
    "def get_deep_copy_of_test_cases():\n",
    "    return copy.deepcopy(original_tests_cases)"
   ],
   "metadata": {
    "collapsed": false,
    "ExecuteTime": {
     "end_time": "2024-02-27T01:01:59.364096500Z",
     "start_time": "2024-02-27T01:01:59.336392600Z"
    }
   },
   "id": "93ca422ae501242e"
  },
  {
   "cell_type": "markdown",
   "source": [
    "# Benchmarking\n",
    "## Set Up Benchmarks"
   ],
   "metadata": {
    "collapsed": false
   },
   "id": "ffd28c1cc4e3d2fb"
  },
  {
   "cell_type": "code",
   "execution_count": null,
   "outputs": [],
   "source": [
    "algorithms = [selection_sort, insertion_sort]\n",
    "# benchmark_sizes = [10, 100, 1000, 10000]\n",
    "benchmark_sizes = [10, 100, 1000, 10000, 100000]\n",
    "benchmark_cases = ['sorted', 'random', 'reversed']\n",
    "\n",
    "def generate_random_list(size, case):\n",
    "    if case == 'random':\n",
    "        return random.sample(range(1, size + 1), size)\n",
    "    elif case == 'sorted':\n",
    "        return list(range(1, size + 1))\n",
    "    elif case == 'reversed':\n",
    "        return list(range(size, 0, -1))\n",
    "\n",
    "def benchmark(sorting_algorithm, lst):\n",
    "    # set up\n",
    "    copy_lst = copy.deepcopy(lst)\n",
    "    start_time = time.perf_counter()\n",
    "    # sort\n",
    "    sorting_algorithm(copy_lst)\n",
    "    # tear down\n",
    "    end_time = time.perf_counter()\n",
    "    return end_time - start_time\n",
    "\n",
    "def benchmark_algorithms():\n",
    "    results = {}\n",
    "    for size in benchmark_sizes:\n",
    "        for case in benchmark_cases:\n",
    "            lst = generate_random_list(size, case)\n",
    "            for algorithm in algorithms:\n",
    "                key = (algorithm.__name__, size, case)\n",
    "                # print(f'Benchmarking {key}')\n",
    "                results[key] = benchmark(algorithm, lst)\n",
    "    \n",
    "    return results\n",
    "\n",
    "def plot_benchmark():\n",
    "    results = benchmark_algorithms()\n",
    "\n",
    "    # Define shades of blue for insertion_sort and red for selection_sort\n",
    "    insertion_sort_colors = ['steelblue', 'cornflowerblue', 'royalblue']\n",
    "    selection_sort_colors = ['lightcoral', 'indianred', 'darkred']\n",
    "\n",
    "    for i, case in enumerate(benchmark_cases):\n",
    "        # Plot insertion_sort with shades of blue\n",
    "        insertion_sort_data = [(size, results[('insertion_sort', size, case)]) for size in benchmark_sizes]\n",
    "        plt.plot([size for size, _ in insertion_sort_data], [sort_time for _, sort_time in insertion_sort_data],\n",
    "                 label=f'insertion_sort - {case}', color=insertion_sort_colors[i])\n",
    "\n",
    "        # Plot selection_sort with shades of red\n",
    "        selection_sort_data = [(size, results[('selection_sort', size, case)]) for size in benchmark_sizes]\n",
    "        plt.plot([size for size, _ in selection_sort_data], [sort_time for _, sort_time in selection_sort_data],\n",
    "                 label=f'selection_sort - {case}', color=selection_sort_colors[i])\n",
    "\n",
    "    # Add labels and legend\n",
    "    plt.xlabel('List Size')\n",
    "    plt.ylabel('Algorithm Execution Time')\n",
    "    plt.title('Algorithm Benchmarking')\n",
    "    plt.legend()\n",
    "\n",
    "    # Show the plot or save it to a file\n",
    "    plt.show()\n",
    "\n",
    "# Call the plot function\n",
    "plot_benchmark()\n"
   ],
   "metadata": {
    "collapsed": false,
    "is_executing": true,
    "ExecuteTime": {
     "start_time": "2024-02-27T01:01:59.347094500Z"
    }
   },
   "id": "5fb4c23e0e560c30"
  }
 ],
 "metadata": {
  "kernelspec": {
   "display_name": "Python 3",
   "language": "python",
   "name": "python3"
  },
  "language_info": {
   "codemirror_mode": {
    "name": "ipython",
    "version": 2
   },
   "file_extension": ".py",
   "mimetype": "text/x-python",
   "name": "python",
   "nbconvert_exporter": "python",
   "pygments_lexer": "ipython2",
   "version": "2.7.6"
  }
 },
 "nbformat": 4,
 "nbformat_minor": 5
}
