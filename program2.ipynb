{
 "cells": [
  {
   "cell_type": "markdown",
   "id": "a2b02621",
   "metadata": {},
   "source": [
    "# Program II: Benchmarking Insertion and Selection Sorts\n",
    "### By: Drew Mattson, Ian Czerkis, Akashdeep Gill\n",
    "## Introduction"
   ]
  },
  {
   "cell_type": "code",
   "execution_count": null,
   "id": "6b71d24493b7a0ec",
   "metadata": {
    "ExecuteTime": {
     "end_time": "2024-02-27T01:01:59.343094400Z",
     "start_time": "2024-02-27T01:01:59.314040100Z"
    },
    "collapsed": false,
    "jupyter": {
     "outputs_hidden": false
    },
    "tags": []
   },
   "outputs": [],
   "source": [
    "import copy\n",
    "import time\n",
    "import random\n",
    "import matplotlib.pyplot as plt"
   ]
  },
  {
   "cell_type": "markdown",
   "id": "d35dfbd6b17e5ff0",
   "metadata": {},
   "source": [
    "# Sorting Algorithms\n",
    "## Insertion Sort"
   ]
  },
  {
   "cell_type": "code",
   "execution_count": 7,
   "id": "773fd9f39ebdde60",
   "metadata": {
    "ExecuteTime": {
     "end_time": "2024-02-27T01:01:59.351085900Z",
     "start_time": "2024-02-27T01:01:59.319625200Z"
    },
    "collapsed": false,
    "jupyter": {
     "outputs_hidden": false
    },
    "tags": []
   },
   "outputs": [],
   "source": [
    "def insertion_sort(lst):\n",
    "    size = len(lst)\n",
    "    # iterate from index 1 to array length\n",
    "    for j in range(1, size):\n",
    "        key = lst[j]\n",
    "        i = j - 1\n",
    "        # shift elements to appropriate spots if necessary\n",
    "        while i >= 0 and lst[i] > key:\n",
    "            lst[i+1] = lst[i]\n",
    "            i = i - 1\n",
    "        # place key in its appropriate sorted position\n",
    "        lst[i+1] = key"
   ]
  },
  {
   "cell_type": "markdown",
   "id": "c54e175ee69fd55f",
   "metadata": {},
   "source": [
    "\n",
    "## Selection Sort"
   ]
  },
  {
   "cell_type": "code",
   "execution_count": 10,
   "id": "initial_id",
   "metadata": {
    "ExecuteTime": {
     "end_time": "2024-02-27T01:01:59.352092400Z",
     "start_time": "2024-02-27T01:01:59.328679900Z"
    },
    "collapsed": true,
    "jupyter": {
     "outputs_hidden": true
    },
    "tags": []
   },
   "outputs": [],
   "source": [
    "def selection_sort(lst):\n",
    "    size = len(lst)\n",
    "    for ind in range(size):\n",
    "        min_index = ind\n",
    " \n",
    "        for j in range(ind + 1, size):\n",
    "            # select the minimum element in every iteration\n",
    "            if lst[j] < lst[min_index]:\n",
    "                min_index = j\n",
    "         # swap the elements to sort the array\n",
    "        (lst[ind], lst[min_index]) = (lst[min_index], lst[ind])"
   ]
  },
  {
   "cell_type": "markdown",
   "id": "7e574c3ba5aadac3",
   "metadata": {},
   "source": [
    "## Correctness Testing"
   ]
  },
  {
   "cell_type": "code",
   "execution_count": 17,
   "id": "93ca422ae501242e",
   "metadata": {
    "ExecuteTime": {
     "end_time": "2024-02-27T01:01:59.364096500Z",
     "start_time": "2024-02-27T01:01:59.336392600Z"
    },
    "collapsed": false,
    "jupyter": {
     "outputs_hidden": false
    },
    "tags": []
   },
   "outputs": [],
   "source": [
    "original_tests_cases = [\n",
    "    ([3, 2, 1], [1, 2, 3]),\n",
    "    ([1, 2, 3], [1, 2, 3]),\n",
    "    ([1, 8, 7, 9, 2, 4, 10, 5, 6, 3], [1, 2, 3, 4, 5, 6, 7, 8, 9, 10]),\n",
    "    ([492, 215, 761, 38, 904, 127, 589, 333, 674, 51], [38, 51, 127, 215, 333, 492, 589, 674, 761, 904]),\n",
    "    ([724, 138, 502, 891, 267, 605, 49, 803, 416, 175], [49, 138, 175, 267, 416, 502, 605, 724, 803, 891]),\n",
    "    ([0.587, 0.231, 0.895, 0.412, 0.674, 0.138, 0.759, 0.523, 0.946, 0.301], [0.138, 0.231, 0.301, 0.412, 0.523, 0.587, 0.674, 0.759, 0.895, 0.946]),\n",
    "    ([-55, 72, -18, 41, -93, 7, 64, -29, 15, -84], [-93, -84, -55, -29, -18, 7, 15, 41, 64, 72])\n",
    "]\n",
    "\n",
    "def get_deep_copy_of_test_cases():\n",
    "    return copy.deepcopy(original_tests_cases)"
   ]
  },
  {
   "cell_type": "markdown",
   "id": "ffd28c1cc4e3d2fb",
   "metadata": {},
   "source": [
    "# Benchmarking\n",
    "## Set Up Benchmarks"
   ]
  },
  {
   "cell_type": "code",
   "execution_count": 20,
   "id": "5fb4c23e0e560c30",
   "metadata": {
    "ExecuteTime": {
     "end_time": "2024-02-27T01:05:43.882180200Z",
     "start_time": "2024-02-27T01:01:59.347094500Z"
    },
    "collapsed": false,
    "jupyter": {
     "outputs_hidden": false
    },
    "tags": []
   },
   "outputs": [],
   "source": [
    "algorithms = [selection_sort, insertion_sort]\n",
    "# benchmark_sizes = [10, 100, 1000, 10000]\n",
    "benchmark_sizes = [10, 100, 1000, 10000, 100000]\n",
    "benchmark_cases = ['sorted', 'random', 'reversed']\n",
    "\n",
    "def generate_random_list(size, case):\n",
    "    if case == 'random':\n",
    "        return random.sample(range(1, size + 1), size)\n",
    "    elif case == 'sorted':\n",
    "        return list(range(1, size + 1))\n",
    "    elif case == 'reversed':\n",
    "        return list(range(size, 0, -1))\n",
    "\n",
    "def benchmark(sorting_algorithm, lst):\n",
    "    # set up\n",
    "    copy_lst = copy.deepcopy(lst)\n",
    "    start_time = time.perf_counter()\n",
    "    # sort\n",
    "    sorting_algorithm(copy_lst)\n",
    "    # tear down\n",
    "    end_time = time.perf_counter()\n",
    "    return end_time - start_time\n",
    "\n",
    "def benchmark_algorithms():\n",
    "    results = {}\n",
    "    for size in benchmark_sizes:\n",
    "        for case in benchmark_cases:\n",
    "            lst = generate_random_list(size, case)\n",
    "            for algorithm in algorithms:\n",
    "                key = (algorithm.__name__, size, case)\n",
    "                # print(f'Benchmarking {key}')\n",
    "                results[key] = benchmark(algorithm, lst)\n",
    "    \n",
    "    return results\n",
    "\n",
    "def plot_benchmark():\n",
    "    results = benchmark_algorithms()\n",
    "\n",
    "    insertion_sort_colors = ['steelblue', 'cornflowerblue', 'royalblue']\n",
    "    selection_sort_colors = ['lightcoral', 'indianred', 'darkred']\n",
    "\n",
    "    for i, case in enumerate(benchmark_cases):\n",
    "        # Plot insertion_sort\n",
    "        insertion_sort_data = [(size, results[('insertion_sort', size, case)]) for size in benchmark_sizes]\n",
    "        plt.plot([size for size, _ in insertion_sort_data], [sort_time for _, sort_time in insertion_sort_data],\n",
    "                 label=f'insertion_sort - {case}', color=insertion_sort_colors[i])\n",
    "\n",
    "        # Plot selection_sort\n",
    "        selection_sort_data = [(size, results[('selection_sort', size, case)]) for size in benchmark_sizes]\n",
    "        plt.plot([size for size, _ in selection_sort_data], [sort_time for _, sort_time in selection_sort_data],\n",
    "                 label=f'selection_sort - {case}', color=selection_sort_colors[i])\n",
    "\n",
    "    # Add labels and legend\n",
    "    plt.xlabel('List Size')\n",
    "    plt.ylabel('Algorithm Execution Time')\n",
    "    plt.title('Algorithm Benchmarking')\n",
    "    plt.legend()\n",
    "\n",
    "    # Show the plot\n",
    "    plt.show()"
   ]
  },
  {
   "cell_type": "markdown",
   "id": "98cff5dfd0b5d193",
   "metadata": {},
   "source": [
    "## Run Benchmark"
   ]
  },
  {
   "cell_type": "code",
   "execution_count": null,
   "id": "f48fc361cb27c9c9",
   "metadata": {
    "collapsed": false,
    "jupyter": {
     "outputs_hidden": false
    },
    "tags": []
   },
   "outputs": [],
   "source": [
    "plot_benchmark()"
   ]
  },
  {
   "cell_type": "markdown",
   "id": "9ac9f69a06161774",
   "metadata": {},
   "source": [
    "# Reflection\n",
    "## Theoretical vs Measured Algorithm Performance\n",
    "| Algorithm          | Case     | Theoretical Run Time   | Estimated Run Time   |\n",
    "|-------------------- |----------|-------------------------|----------------------|\n",
    "| Insertion Sort      | Best     | O(n)                    | O(n)                 |\n",
    "| Insertion Sort      | Average  | O(n^2)                  | O(n^2)               |\n",
    "| Insertion Sort      | Worst    | O(n^2)                  | O(n^2)               |\n",
    "| Selection Sort      | Best     | O(n^2)                  | O(n^2)               |\n",
    "| Selection Sort      | Average  | O(n^2)                  | O(n^2)               |\n",
    "| Selection Sort      | Worst    | O(n^2)                  | O(n^2)               |\n",
    "\n",
    "##Do they behave as expected\n",
    "\n",
    "\n",
    "## Case by Case Analysis\n",
    "# Algorithm Performance:\n",
    "\n",
    "For best and average cases, Insertion Sort is expected to perform better as it has linear time complexity in the best case.\n",
    "In the worst case, both algorithms have the same quadratic time complexity, so their performance should be comparable.\n",
    "\n",
    "# Inner Loop Consideration:\n",
    "\n",
    "Insertion Sort is generally more efficient in practice for small datasets and already partially sorted data due to its adaptive nature.Selection Sort's inner loop involves finding the minimum element and swapping, which is inherently less efficient than the comparisons in Insertion Sort.\n",
    "\n",
    "# Practical Usage:\n",
    "In practice, the choice between insertion sort and selection sort would depend on the specific requirements and characteristics of the input data.\n",
    "\n",
    "Use Insertion Sort when:\n",
    "\n",
    "- The list is expected to be partially sorted or has a high likelihood of being already sorted.\n",
    "- The overhead of the algorithm is acceptable for small to medium-sized lists.\n",
    "- Stability in sorting is crucial (insertion sort is stable).\n",
    "\n",
    "Use Selection Sort when:\n",
    "\n",
    "Memory usage needs to be minimized as it performs a constant number of swaps.\n",
    "- The list is relatively small, and simplicity is preferred over efficiency.\n",
    "- The stability of sorting is not a primary concern.\n",
    "\n",
    "Ultimately, the choice between insertion sort and selection sort would be application-dependent, considering factors such as input data characteristics, size of the data, and specific performance requirements.\n",
    "\n",
    "## Overall Analysis\n",
    "// TODO"
   ]
  }
 ],
 "metadata": {
  "kernelspec": {
   "display_name": "Python 3 (ipykernel)",
   "language": "python",
   "name": "python3"
  },
  "language_info": {
   "codemirror_mode": {
    "name": "ipython",
    "version": 3
   },
   "file_extension": ".py",
   "mimetype": "text/x-python",
   "name": "python",
   "nbconvert_exporter": "python",
   "pygments_lexer": "ipython3",
   "version": "3.11.5"
  }
 },
 "nbformat": 4,
 "nbformat_minor": 5
}
